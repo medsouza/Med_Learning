{
  "nbformat": 4,
  "nbformat_minor": 0,
  "metadata": {
    "colab": {
      "name": "Smartphone_Motion_sensor_classification.ipynb",
      "provenance": [],
      "collapsed_sections": [],
      "mount_file_id": "1flPuBbud-C20lpDCo7nv4GF98UTP8mlS",
      "authorship_tag": "ABX9TyNk8bz+hhqFiP1XyiIFRKsu"
    },
    "kernelspec": {
      "name": "python3",
      "display_name": "Python 3"
    },
    "language_info": {
      "name": "python"
    },
    "accelerator": "GPU"
  },
  "cells": [
    {
      "cell_type": "markdown",
      "source": [
        "# Introduction\n",
        "\n",
        "I found this dataset in the UC Irvine Machine Learning Repository:\n",
        "\n",
        "https://archive-beta.ics.uci.edu/ml/datasets/human+activity+recognition+using+smartphones\n",
        "\n",
        "This database was built from the recordings of 30 subjects performing activities of daily living while carrying a waist-mounted smartphone with embedded inertial sensors.\n",
        "\n",
        "## Summary of the data\n",
        "* The experiments have been carried out with a group of 30 volunteers within an \n",
        "age bracket of 19-48 years.\n",
        "* Each person performed six activities (WALKING, WALKING_UPSTAIRS, WALKING_DOWNSTAIRS, SITTING, STANDING, LAYING) wearing a smartphone around their waist.\n",
        "* Using its embedded accelerometer and gyroscope, recordings were made of 3-axial linear acceleration and 3-axial angular velocity at a constant rate of 50Hz.\n",
        "* The sensor signals (accelerometer and gyroscope) were pre-processed by applying noise filters and then sampled in fixed-width sliding windows of 2.56 sec and 50% overlap (128 readings/window).\n",
        "* The sensor acceleration signal, which has gravitational and body motion components, was separated using a Butterworth low-pass filter into body acceleration and gravity.\n",
        "* The dataset has been randomly partitioned into two sets, where 21 of the volunteers was selected for generating the training data and 9 for the test data, i.e. 70-30 split.\n",
        "* The data is stored in separate 'train' and 'test' folders.\n",
        "\n",
        "## Objective\n",
        "The goal is to classify the activities by modelling the time series data. To this end we will try different recurrent neural networks to see how they compare."
      ],
      "metadata": {
        "id": "R4Qempni4sfT"
      }
    },
    {
      "cell_type": "markdown",
      "source": [
        "# Getting started"
      ],
      "metadata": {
        "id": "MfdfXQ_fI6e4"
      }
    },
    {
      "cell_type": "markdown",
      "source": [
        "First things first. Let's import the libraries and set the path."
      ],
      "metadata": {
        "id": "TVgGbmPqkQCC"
      }
    },
    {
      "cell_type": "code",
      "execution_count": 1,
      "metadata": {
        "id": "SH3Y8olsQRVw"
      },
      "outputs": [],
      "source": [
        "import random\n",
        "import numpy as np\n",
        "import pandas as pd\n",
        "from pandas import read_csv\n",
        "from matplotlib import pyplot as plt\n",
        "from sklearn.preprocessing import StandardScaler"
      ]
    },
    {
      "cell_type": "code",
      "source": [
        "path_main = '/content/drive/MyDrive/Data/UCI_HAR_Dataset/'\n",
        "path_train = path_main + 'train/Inertial_Signals/'\n",
        "path_test = path_main + 'test/Inertial_Signals/'"
      ],
      "metadata": {
        "id": "Rb9qf3FFvlOf"
      },
      "execution_count": 2,
      "outputs": []
    },
    {
      "cell_type": "markdown",
      "source": [
        "# Preprocessing\n",
        "\n",
        "The data in the train and test folders is stored in 9 different files:\n",
        "* Three files (one for each axis) with total acceleration values.\n",
        "* Three files (one for each axis) with body acceleration values.\n",
        "* Three files (one for each axis) with angular velocity values.\n",
        "\n",
        "These need to be combined in a way suitable for multivariate time series modelling. We know that for sequence modelling with RNNs the shape of input data needs to be in three dimensional form of (#samples, timesteps/window, #features). We will try to achieve that below with data from every being turned into a feature, i.e. a total of 9 features."
      ],
      "metadata": {
        "id": "UeTKlEZHJkMJ"
      }
    },
    {
      "cell_type": "markdown",
      "source": [
        "First, let's create a function to read the individual files."
      ],
      "metadata": {
        "id": "vNOR6bEYgf3J"
      }
    },
    {
      "cell_type": "code",
      "source": [
        "def load_file(filepath):\n",
        "\tdataframe = read_csv(filepath, header=None, delim_whitespace=True)\n",
        "\treturn dataframe.values"
      ],
      "metadata": {
        "id": "GzndcIplTVaN"
      },
      "execution_count": 3,
      "outputs": []
    },
    {
      "cell_type": "code",
      "source": [
        "data = load_file(path_train+'total_acc_x_train.txt')\n",
        "print(data.shape)"
      ],
      "metadata": {
        "colab": {
          "base_uri": "https://localhost:8080/"
        },
        "id": "xRpfDcfTPyFq",
        "outputId": "48738625-8bba-4ee6-8435-bc39f63b218f"
      },
      "execution_count": 4,
      "outputs": [
        {
          "output_type": "stream",
          "name": "stdout",
          "text": [
            "(7352, 128)\n"
          ]
        }
      ]
    },
    {
      "cell_type": "markdown",
      "source": [
        "Let us create a function to combine multiple files into one."
      ],
      "metadata": {
        "id": "4J6Pmv5igqSW"
      }
    },
    {
      "cell_type": "code",
      "source": [
        "def load_group(filenames, prefix=''):\n",
        "\tloaded = list()\n",
        "\tfor name in filenames:\n",
        "\t\tdata = load_file(prefix + name)\n",
        "\t\tloaded.append(data)\n",
        "\t# stack group so that features are the 3rd dimension\n",
        "\tloaded = np.dstack(loaded)\n",
        "\treturn loaded"
      ],
      "metadata": {
        "id": "Ffhm4E_9T9Wz"
      },
      "execution_count": 7,
      "outputs": []
    },
    {
      "cell_type": "markdown",
      "source": [
        "Now let's combine data of one kind for the x, y & z axes."
      ],
      "metadata": {
        "id": "wiSDzJNrlmXF"
      }
    },
    {
      "cell_type": "code",
      "source": [
        "# load the total acceleration data\n",
        "filenames = ['total_acc_x_train.txt', 'total_acc_y_train.txt', 'total_acc_z_train.txt']\n",
        "total_acc = load_group(filenames, prefix=path_train)\n",
        "print(total_acc.shape)"
      ],
      "metadata": {
        "colab": {
          "base_uri": "https://localhost:8080/"
        },
        "id": "Oz-4sGxMlluL",
        "outputId": "37e436af-0c36-4e0d-d782-e8e3856cc4e0"
      },
      "execution_count": 8,
      "outputs": [
        {
          "output_type": "stream",
          "name": "stdout",
          "text": [
            "(7352, 128, 3)\n"
          ]
        }
      ]
    },
    {
      "cell_type": "markdown",
      "source": [
        "Finally, combining them all with only 'train' or 'test' as input."
      ],
      "metadata": {
        "id": "8HJbgKAjg4ez"
      }
    },
    {
      "cell_type": "code",
      "source": [
        "def load_dataset_group(group, prefix=''):\n",
        "\tfilepath = prefix + group + '/Inertial_Signals/'\n",
        "\t# load all 9 files as a single array\n",
        "\tfilenames = list()\n",
        "\t# total acceleration\n",
        "\tfilenames += ['total_acc_x_'+group+'.txt', 'total_acc_y_'+group+'.txt', 'total_acc_z_'+group+'.txt']\n",
        "\t# body acceleration\n",
        "\tfilenames += ['body_acc_x_'+group+'.txt', 'body_acc_y_'+group+'.txt', 'body_acc_z_'+group+'.txt']\n",
        "\t# body gyro angular velocity\n",
        "\tfilenames += ['body_gyro_x_'+group+'.txt', 'body_gyro_y_'+group+'.txt', 'body_gyro_z_'+group+'.txt']\n",
        "\t# load input data\n",
        "\tX = load_group(filenames, filepath)\n",
        "\t# load class output\n",
        "\ty = load_file(prefix + group + '/y_'+group+'.txt')\n",
        "\treturn X, y"
      ],
      "metadata": {
        "id": "Buqf8JWcUXI9"
      },
      "execution_count": 9,
      "outputs": []
    },
    {
      "cell_type": "markdown",
      "source": [
        "Now, let's load and have a look at them."
      ],
      "metadata": {
        "id": "yuLjZw-CmLSq"
      }
    },
    {
      "cell_type": "code",
      "source": [
        "X_train, y_train = load_dataset_group('train', path_main)\n",
        "print(X_train.shape, y_train.shape)\n",
        "\n",
        "X_test, y_test = load_dataset_group('test', path_main)\n",
        "print(X_test.shape, y_test.shape)"
      ],
      "metadata": {
        "colab": {
          "base_uri": "https://localhost:8080/"
        },
        "id": "gY7MvvpbUq3U",
        "outputId": "71573b24-3220-4e72-96a9-7d9295bf8b95"
      },
      "execution_count": 10,
      "outputs": [
        {
          "output_type": "stream",
          "name": "stdout",
          "text": [
            "(7352, 128, 9) (7352, 1)\n",
            "(2947, 128, 9) (2947, 1)\n"
          ]
        }
      ]
    },
    {
      "cell_type": "markdown",
      "source": [
        "# Exploratory data analysis\n",
        "\n",
        "## Class distribution\n",
        "To begin with let's check if the dataset is evenly distributed for the different classes of activities to be labeled."
      ],
      "metadata": {
        "id": "EWsoRkzemRjI"
      }
    },
    {
      "cell_type": "code",
      "source": [
        "def class_breakdown(data):\n",
        "\t# convert the numpy array into a dataframe\n",
        "\tdf = pd.DataFrame(data)\n",
        "\tcounts = df.groupby(0).size()\n",
        "\t# retrieve raw rows\n",
        "\tcounts = counts.values\n",
        "\t# summarize\n",
        "\tfor i in range(len(counts)):\n",
        "\t\tpercent = counts[i] / len(df) * 100\n",
        "\t\tprint('Class=%d, total=%d (%.2f%%)' % (i+1, counts[i], percent))"
      ],
      "metadata": {
        "id": "Ihs649hPViip"
      },
      "execution_count": 11,
      "outputs": []
    },
    {
      "cell_type": "code",
      "source": [
        "print('Training set distribution:\\n')\n",
        "class_breakdown(y_train)"
      ],
      "metadata": {
        "colab": {
          "base_uri": "https://localhost:8080/"
        },
        "id": "Z9Knvxq8Vrr7",
        "outputId": "da5d6fd1-cd92-4b0e-9740-6b5e96d546c2"
      },
      "execution_count": 13,
      "outputs": [
        {
          "output_type": "stream",
          "name": "stdout",
          "text": [
            "Training set distribution:\n",
            "\n",
            "Class=1, total=1226 (16.68%)\n",
            "Class=2, total=1073 (14.59%)\n",
            "Class=3, total=986 (13.41%)\n",
            "Class=4, total=1286 (17.49%)\n",
            "Class=5, total=1374 (18.69%)\n",
            "Class=6, total=1407 (19.14%)\n"
          ]
        }
      ]
    },
    {
      "cell_type": "code",
      "source": [
        "print('Test set distribution:\\n')\n",
        "class_breakdown(y_test)"
      ],
      "metadata": {
        "colab": {
          "base_uri": "https://localhost:8080/"
        },
        "id": "YxYpGd_4V3Ip",
        "outputId": "069a4fcc-351e-4f71-bdcd-41e7062e98db"
      },
      "execution_count": 14,
      "outputs": [
        {
          "output_type": "stream",
          "name": "stdout",
          "text": [
            "Test set distribution:\n",
            "\n",
            "Class=1, total=496 (16.83%)\n",
            "Class=2, total=471 (15.98%)\n",
            "Class=3, total=420 (14.25%)\n",
            "Class=4, total=491 (16.66%)\n",
            "Class=5, total=532 (18.05%)\n",
            "Class=6, total=537 (18.22%)\n"
          ]
        }
      ]
    },
    {
      "cell_type": "markdown",
      "source": [
        "This is great. Both the training and testing datasets are evenly distributed for the 6 classes of activity. Now let's look at the subject ids for the training and testing datasets. The subject_train.txt and subject_test.txt files help us relate the training and testing data to the subjects. This is not really relevant for the activity prediction model, of course, as the prediction is made independent of the human involved."
      ],
      "metadata": {
        "id": "I6CZT4S4nn6h"
      }
    },
    {
      "cell_type": "code",
      "source": [
        "train_sub_map = load_file(path_main+'train/subject_train.txt')\n",
        "test_sub_map = load_file(path_main+'test/subject_test.txt')\n",
        "train_subjects = np.unique(train_sub_map)\n",
        "test_subjects = np.unique(test_sub_map)\n",
        "print('Train subjects:\\n',train_subjects)\n",
        "print('\\nTest subjects:\\n',test_subjects)"
      ],
      "metadata": {
        "colab": {
          "base_uri": "https://localhost:8080/"
        },
        "id": "Y-HbMeRSWLGX",
        "outputId": "78aa41e8-2fe0-4ecd-d237-e0108029a52c"
      },
      "execution_count": 15,
      "outputs": [
        {
          "output_type": "stream",
          "name": "stdout",
          "text": [
            "Train subjects:\n",
            " [ 1  3  5  6  7  8 11 14 15 16 17 19 21 22 23 25 26 27 28 29 30]\n",
            "\n",
            "Test subjects:\n",
            " [ 2  4  9 10 12 13 18 20 24]\n"
          ]
        }
      ]
    },
    {
      "cell_type": "markdown",
      "source": [
        "## Line plot\n",
        "We'd like to see a line plot of the time series data for all the 9 features for any given subject. Let's write some functions for that."
      ],
      "metadata": {
        "id": "2qI7Mj_-q-5i"
      }
    },
    {
      "cell_type": "markdown",
      "source": [
        "First, we'll have to pick out data that belongs to any one given subject."
      ],
      "metadata": {
        "id": "AQ3SaD99sd43"
      }
    },
    {
      "cell_type": "code",
      "source": [
        "def data_for_subject(X, y, sub_map, sub_id):\n",
        "\t# get row indexes for the subject id\n",
        "\tix = [i for i in range(len(sub_map)) if sub_map[i]==sub_id]\n",
        "\treturn X[ix, :, :], y[ix]"
      ],
      "metadata": {
        "id": "oHU3JwLtWU04"
      },
      "execution_count": 16,
      "outputs": []
    },
    {
      "cell_type": "markdown",
      "source": [
        "Next, we delete the 50% overlap that is in the data and convert the array into a 1D list to enable plotting."
      ],
      "metadata": {
        "id": "tzYGrSpKsk7p"
      }
    },
    {
      "cell_type": "code",
      "source": [
        "# convert a series of windows to a 1D list\n",
        "def to_series(windows):\n",
        "\tseries = list()\n",
        "\tfor window in windows:\n",
        "\t\t# remove the overlap from the window\n",
        "\t\thalf = int(len(window) / 2) - 1\n",
        "\t\tfor value in window[-half:]:\n",
        "\t\t\tseries.append(value)\n",
        "\treturn series"
      ],
      "metadata": {
        "id": "FPXGIzhZWn1a"
      },
      "execution_count": 17,
      "outputs": []
    },
    {
      "cell_type": "code",
      "source": [
        "# plot the data for a given subject\n",
        "def plot_subject(X, y):\n",
        "\tfig=plt.figure()\n",
        "\tfig.set_figheight(15)\n",
        "\tfig.set_figwidth(10)\n",
        "\t# determine the total number of plots\n",
        "\ta, b = X.shape[2] + 1, 0\n",
        "\t# plot total acceleration\n",
        "\tfor i in range(3):\n",
        "\t\tplt.subplot(a, 1, b+1)\n",
        "\t\tplt.plot(to_series(X[:, :, b]))\n",
        "\t\tplt.xticks([])\n",
        "\t\tplt.title('total acc '+str(i), y=0, loc='left')\n",
        "\t\tb += 1\n",
        "\t# plot body acceleration\n",
        "\tfor i in range(3):\n",
        "\t\tplt.subplot(a, 1, b+1)\n",
        "\t\tplt.plot(to_series(X[:, :, b]))\n",
        "\t\tplt.xticks([])\n",
        "\t\tplt.title('body acc '+str(i), y=0, loc='left')\n",
        "\t\tb += 1\n",
        "\t# plot body angular velocity\n",
        "\tfor i in range(3):\n",
        "\t\tplt.subplot(a, 1, b+1)\n",
        "\t\tplt.plot(to_series(X[:, :, b]))\n",
        "\t\tplt.xticks([])\n",
        "\t\tplt.title('body gyro '+str(i), y=0, loc='left')\n",
        "\t\tb += 1\n",
        "\t# plot activities\n",
        "\tplt.subplot(a, 1, a)\n",
        "\tplt.plot(y)\n",
        "\tplt.title('activity', y=0, loc='left')\n",
        "\tplt.show()"
      ],
      "metadata": {
        "id": "hCGSvz4UWw0Z"
      },
      "execution_count": 18,
      "outputs": []
    },
    {
      "cell_type": "markdown",
      "source": [
        "Let's plot the recordings for a random subject from the training set."
      ],
      "metadata": {
        "id": "MpBl4BXzXcyB"
      }
    },
    {
      "cell_type": "code",
      "source": [
        "sub_id = train_subjects[random.randint(0, len(train_subjects))]\n",
        "subX, suby = data_for_subject(X_train, y_train, train_sub_map, sub_id)\n",
        "print('The chosen subject is: ',sub_id)\n",
        "print('The shapes of the data are: ', subX.shape, suby.shape)\n",
        "# plot data for subject\n",
        "plot_subject(subX, suby)\n",
        "print('\\n(1: WALKING, 2: WALKING_UPSTAIRS, 3: WALKING_DOWNSTAIRS, 4: SITTING, 5: STANDING, 6: LAYING)')"
      ],
      "metadata": {
        "colab": {
          "base_uri": "https://localhost:8080/",
          "height": 932
        },
        "id": "ZEcfb9RdW0M4",
        "outputId": "10c72795-aea4-429b-c8aa-a3edca1ecf07"
      },
      "execution_count": 19,
      "outputs": [
        {
          "output_type": "stream",
          "name": "stdout",
          "text": [
            "The chosen subject is:  23\n",
            "The shapes of the data are:  (372, 128, 9) (372, 1)\n"
          ]
        },
        {
          "output_type": "display_data",
          "data": {
            "text/plain": [
              "<Figure size 720x1080 with 10 Axes>"
            ],
            "image/png": "[encoded data removed]"
          },
          "metadata": {
            "needs_background": "light"
          }
        },
        {
          "output_type": "stream",
          "name": "stdout",
          "text": [
            "\n",
            "(1: WALKING, 2: WALKING_UPSTAIRS, 3: WALKING_DOWNSTAIRS, 4: SITTING, 5: STANDING, 6: LAYING)\n"
          ]
        }
      ]
    },
    {
      "cell_type": "markdown",
      "source": [
        "# Standardisation\n",
        "\n",
        "Let's standardise the values to a mean of 0 and a variance of 1. To do this we first fit the scaler on the training data without the overlap and then apply the scaler to the training and test data."
      ],
      "metadata": {
        "id": "iIRJ5e3Gcbtv"
      }
    },
    {
      "cell_type": "code",
      "source": [
        "def scale_data(trainX, testX):\n",
        "  # remove overlap\n",
        "  split = int(trainX.shape[1] / 2)\n",
        "  fit_X = trainX[:, -split:, :]\n",
        "  #Before we apply the standard scaler we need to flatten the arrays.\n",
        "  fit_X = fit_X.reshape((fit_X.shape[0] * fit_X.shape[1], fit_X.shape[2]))\n",
        "  \n",
        "  scaled_trainX = trainX.reshape((trainX.shape[0] * trainX.shape[1], trainX.shape[2]))\n",
        "  scaled_testX = testX.reshape((testX.shape[0] * testX.shape[1], testX.shape[2]))\n",
        "  \n",
        "  s = StandardScaler()\n",
        "  s.fit(fit_X)\n",
        "  fit_X = s.transform(fit_X)\n",
        "\n",
        "  #Apply the scaler to trainX & testX\n",
        "  scaled_trainX = s.transform(scaled_trainX)\n",
        "  scaled_testX = s.transform(scaled_testX)\n",
        "\n",
        "  #Now we reshape the arrays to original shape\n",
        "  scaled_trainX = scaled_trainX.reshape((trainX.shape))\n",
        "  scaled_testX = scaled_testX.reshape((testX.shape))\n",
        "  \n",
        "  return scaled_trainX, scaled_testX"
      ],
      "metadata": {
        "id": "y16KdDHceia0"
      },
      "execution_count": 23,
      "outputs": []
    },
    {
      "cell_type": "code",
      "source": [
        "X_train, X_test = scale_data(X_train, X_test)\n",
        "print('Shape of scaled train X: ', X_train.shape)\n",
        "print('Shape of scaled test X: ', X_test.shape)"
      ],
      "metadata": {
        "id": "EjCz_Jv7jK7f",
        "colab": {
          "base_uri": "https://localhost:8080/"
        },
        "outputId": "77d4c15d-0440-4a51-c066-b92c00df0eda"
      },
      "execution_count": 24,
      "outputs": [
        {
          "output_type": "stream",
          "name": "stdout",
          "text": [
            "Shape of scaled train X:  (7352, 128, 9)\n",
            "Shape of scaled test X:  (2947, 128, 9)\n"
          ]
        }
      ]
    },
    {
      "cell_type": "markdown",
      "source": [
        "# Modelling\n",
        "\n",
        "Now let's get to the most exciting part. I'd like to try the following variants:\n",
        "\n",
        "\n",
        "1. Single layer of simple RNN\n",
        "2. Single layer of LSTM\n",
        "3. Single layer of bidirectional LSTM\n",
        "4. Two layers of stacked LSTM\n",
        "5. Combining bidirectional and stacked LSTM\n",
        "6. Two layers of stacked GRU\n",
        "\n",
        "Let's import all the libraries first.\n",
        "\n"
      ],
      "metadata": {
        "id": "FZygSQtwvQIN"
      }
    },
    {
      "cell_type": "code",
      "source": [
        "from tensorflow.keras.models import Sequential\n",
        "from tensorflow.keras.layers import Dense\n",
        "from tensorflow.keras.layers import Flatten\n",
        "from tensorflow.keras.layers import Dropout\n",
        "from tensorflow.keras.layers import SimpleRNN, LSTM, ConvLSTM2D, GRU, Bidirectional\n",
        "from tensorflow.keras.utils import to_categorical"
      ],
      "metadata": {
        "id": "Dfm8b1dKXHVx"
      },
      "execution_count": 25,
      "outputs": []
    },
    {
      "cell_type": "markdown",
      "source": [
        "Now let's load the dataset and one hot encode the labels."
      ],
      "metadata": {
        "id": "M3DW-kteM01m"
      }
    },
    {
      "cell_type": "code",
      "source": [
        "# This function loads the dataset, one hot encodes the labels and returns train and test X and y elements\n",
        "def load_dataset(prefix=''):\n",
        "\t# load all train\n",
        "\tX_train, y_train = load_dataset_group('train', prefix + path_main)\n",
        "\tprint(X_train.shape, y_train.shape)\n",
        "\t# load all test\n",
        "\tX_test, y_test = load_dataset_group('test', prefix + path_main)\n",
        "\tprint(X_test.shape, y_test.shape)\n",
        "\t# Scale X data\n",
        "\tX_train, X_test = scale_data(X_train, X_test)\n",
        "\t# zero-offset class values\n",
        "\ty_train = y_train - 1\n",
        "\ty_test = y_test - 1\n",
        "\t# one hot encode y\n",
        "\ty_train = to_categorical(y_train)\n",
        "\ty_test = to_categorical(y_test)\n",
        "\tprint(X_train.shape, y_train.shape, X_test.shape, y_test.shape)\n",
        "\treturn X_train, y_train, X_test, y_test"
      ],
      "metadata": {
        "id": "5P3tY1J0YeyK"
      },
      "execution_count": 26,
      "outputs": []
    },
    {
      "cell_type": "code",
      "source": [
        "# load data\n",
        "X_train, y_train, X_test, y_test = load_dataset()"
      ],
      "metadata": {
        "colab": {
          "base_uri": "https://localhost:8080/"
        },
        "id": "lsmTylNPmRtu",
        "outputId": "cba7e8a5-4f68-433f-a8d4-9a13a8b3626c"
      },
      "execution_count": 27,
      "outputs": [
        {
          "output_type": "stream",
          "name": "stdout",
          "text": [
            "(7352, 128, 9) (7352, 1)\n",
            "(2947, 128, 9) (2947, 1)\n",
            "(7352, 128, 9) (7352, 6) (2947, 128, 9) (2947, 6)\n"
          ]
        }
      ]
    },
    {
      "cell_type": "markdown",
      "source": [
        "## Simple RNN\n",
        "First let's try a simple RNN."
      ],
      "metadata": {
        "id": "Z74RSNrqVyRM"
      }
    },
    {
      "cell_type": "code",
      "source": [
        "def evaluate_rnn_model(trainX, trainy, testX, testy):\n",
        "\tepochs, batch_size = 15, 64\n",
        "\tn_timesteps, n_features, n_outputs = trainX.shape[1], trainX.shape[2], trainy.shape[1]\n",
        "\tmodel = Sequential()\n",
        "\tmodel.add(SimpleRNN(200, input_shape=(n_timesteps,n_features)))\n",
        "\tmodel.add(Dense(200, activation='relu'))\n",
        "\tmodel.add(Dense(n_outputs, activation='softmax'))\n",
        "\tmodel.compile(loss='categorical_crossentropy', optimizer='adam', metrics=['accuracy'])\n",
        "\t# fit network\n",
        "\tmodel.fit(trainX, trainy, epochs=epochs, batch_size=batch_size, verbose=0)\n",
        "\t# evaluate model\n",
        "\t_, accuracy = model.evaluate(testX, testy, batch_size=batch_size, verbose=0)\n",
        "\treturn accuracy"
      ],
      "metadata": {
        "id": "Umq45qfUTj7-"
      },
      "execution_count": 28,
      "outputs": []
    },
    {
      "cell_type": "code",
      "source": [
        "acc_rnn = evaluate_rnn_model(X_train, y_train, X_test, y_test)\n",
        "print('Accuracy with a simple RNN model: %.2f' % (acc_rnn*100))"
      ],
      "metadata": {
        "colab": {
          "base_uri": "https://localhost:8080/"
        },
        "id": "DBFqgGXYT5Hh",
        "outputId": "bf15e94a-7781-4298-e432-dc000f3ff3fe"
      },
      "execution_count": 29,
      "outputs": [
        {
          "output_type": "stream",
          "name": "stdout",
          "text": [
            "Accuracy with a simple RNN model: 84.83\n"
          ]
        }
      ]
    },
    {
      "cell_type": "markdown",
      "source": [
        "This is not a very good result."
      ],
      "metadata": {
        "id": "5H8DigzbV8D4"
      }
    },
    {
      "cell_type": "markdown",
      "source": [
        "## Long Short-Term Memory (LSTM)\n",
        "Now let's try the most popular LSTM. I'll add a dropout of 20% before the dense layer."
      ],
      "metadata": {
        "id": "5rrXDwO5WzRj"
      }
    },
    {
      "cell_type": "code",
      "source": [
        "def evaluate_lstm_model(trainX, trainy, testX, testy):\n",
        "\tepochs, batch_size = 15, 64\n",
        "\tn_timesteps, n_features, n_outputs = trainX.shape[1], trainX.shape[2], trainy.shape[1]\n",
        "\tmodel = Sequential()\n",
        "\tmodel.add(LSTM(200, input_shape=(n_timesteps,n_features)))\n",
        "\tmodel.add(Dropout(0.2))\n",
        "\tmodel.add(Dense(200, activation='relu'))\n",
        "\tmodel.add(Dense(n_outputs, activation='softmax'))\n",
        "\tmodel.compile(loss='categorical_crossentropy', optimizer='adam', metrics=['accuracy'])\n",
        "\t# fit network\n",
        "\tmodel.fit(trainX, trainy, epochs=epochs, batch_size=batch_size, verbose=0)\n",
        "\t# evaluate model\n",
        "\t_, accuracy = model.evaluate(testX, testy, batch_size=batch_size, verbose=0)\n",
        "\treturn accuracy"
      ],
      "metadata": {
        "id": "qQdd1ndOYq2s"
      },
      "execution_count": 30,
      "outputs": []
    },
    {
      "cell_type": "code",
      "source": [
        "acc_lstm = evaluate_lstm_model(X_train, y_train, X_test, y_test)\n",
        "print('Accuracy with LSTM model: %.2f' % (acc_lstm*100))"
      ],
      "metadata": {
        "colab": {
          "base_uri": "https://localhost:8080/"
        },
        "id": "_eJnAMh81Dpd",
        "outputId": "822d695e-d9a2-4ac5-8e8b-7c7af762dc73"
      },
      "execution_count": 31,
      "outputs": [
        {
          "output_type": "stream",
          "name": "stdout",
          "text": [
            "Accuracy with LSTM model: 89.89\n"
          ]
        }
      ]
    },
    {
      "cell_type": "markdown",
      "source": [
        "That's a significant improvement over the simple RNN."
      ],
      "metadata": {
        "id": "OFmwwgtBaQhN"
      }
    },
    {
      "cell_type": "markdown",
      "source": [
        "## Bidirectional LSTM\n",
        "Now let's see if a bidirectional LSTM can fare any better."
      ],
      "metadata": {
        "id": "Gbkbo_1JaHaA"
      }
    },
    {
      "cell_type": "code",
      "source": [
        "def evaluate_bidir_lstm_model(trainX, trainy, testX, testy):\n",
        "\tepochs, batch_size = 15, 64\n",
        "\tn_timesteps, n_features, n_outputs = trainX.shape[1], trainX.shape[2], trainy.shape[1]\n",
        "\tmodel = Sequential()\n",
        "\tmodel.add(Bidirectional(LSTM(200, input_shape=(n_timesteps,n_features))))\n",
        "\tmodel.add(Dropout(0.2))\n",
        "\tmodel.add(Dense(200, activation='relu'))\n",
        "\tmodel.add(Dense(n_outputs, activation='softmax'))\n",
        "\tmodel.compile(loss='categorical_crossentropy', optimizer='adam', metrics=['accuracy'])\n",
        "\t# fit network\n",
        "\tmodel.fit(trainX, trainy, epochs=epochs, batch_size=batch_size, verbose=0)\n",
        "\t# evaluate model\n",
        "\t_, accuracy = model.evaluate(testX, testy, batch_size=batch_size, verbose=0)\n",
        "\treturn accuracy"
      ],
      "metadata": {
        "id": "KejrFTm2nM6_"
      },
      "execution_count": 42,
      "outputs": []
    },
    {
      "cell_type": "code",
      "source": [
        "acc_bidir = evaluate_bidir_lstm_model(X_train, y_train, X_test, y_test)\n",
        "print('Accuracy with bidirectional LSTM model: %.2f' % (acc_bidir*100))"
      ],
      "metadata": {
        "colab": {
          "base_uri": "https://localhost:8080/"
        },
        "id": "7yj8rgKAp9gF",
        "outputId": "70e83602-4a47-4213-bc00-6c6954d19996"
      },
      "execution_count": 43,
      "outputs": [
        {
          "output_type": "stream",
          "name": "stdout",
          "text": [
            "Accuracy with bidirectional LSTM model: 92.16\n"
          ]
        }
      ]
    },
    {
      "cell_type": "markdown",
      "source": [
        "There is clearly an improvement thanks to the bidirectional cell states."
      ],
      "metadata": {
        "id": "3zpvHAEOaq-U"
      }
    },
    {
      "cell_type": "markdown",
      "source": [
        "## Stacked LSTM\n",
        "Let's see what happens when we stack them."
      ],
      "metadata": {
        "id": "AtHWsAxxa3ss"
      }
    },
    {
      "cell_type": "code",
      "source": [
        "def evaluate_stack_lstm_model(trainX, trainy, testX, testy):\n",
        "\tepochs, batch_size = 15, 64\n",
        "\tn_timesteps, n_features, n_outputs = trainX.shape[1], trainX.shape[2], trainy.shape[1]\n",
        "\tmodel = Sequential()\n",
        "\tmodel.add(LSTM(150, return_sequences=True, input_shape=(n_timesteps,n_features)))\n",
        "\tmodel.add(Dropout(0.1))\n",
        "\tmodel.add(LSTM(150))\n",
        "\tmodel.add(Dropout(0.1))\n",
        "\tmodel.add(Dense(150, activation='relu'))\n",
        "\tmodel.add(Dense(n_outputs, activation='softmax'))\n",
        "\tmodel.compile(loss='categorical_crossentropy', optimizer='adam', metrics=['accuracy'])\n",
        "\t# fit network\n",
        "\tmodel.fit(trainX, trainy, epochs=epochs, batch_size=batch_size, verbose=0)\n",
        "\t# evaluate model\n",
        "\t_, accuracy = model.evaluate(testX, testy, batch_size=batch_size, verbose=0)\n",
        "\treturn accuracy"
      ],
      "metadata": {
        "id": "U_UbfgvGv2Z0"
      },
      "execution_count": 44,
      "outputs": []
    },
    {
      "cell_type": "code",
      "source": [
        "acc_stack_lstm = evaluate_stack_lstm_model(X_train, y_train, X_test, y_test)\n",
        "print('Accuracy with stacked bidirectional LSTM model: %.2f' % (acc_stack_lstm*100))"
      ],
      "metadata": {
        "colab": {
          "base_uri": "https://localhost:8080/"
        },
        "id": "r8aDsn93w9gb",
        "outputId": "1aca8ecc-677c-49e9-a019-85d662f20fb9"
      },
      "execution_count": 45,
      "outputs": [
        {
          "output_type": "stream",
          "name": "stdout",
          "text": [
            "Accuracy with stacked bidirectional LSTM model: 91.96\n"
          ]
        }
      ]
    },
    {
      "cell_type": "markdown",
      "source": [
        "Not much of a difference here compared to bidirectional LSTM."
      ],
      "metadata": {
        "id": "M59x7ijzcCWU"
      }
    },
    {
      "cell_type": "markdown",
      "source": [
        "# Bidirectional stacked LSTM\n",
        "Let's see what happens when we combine the last two variants, i.e. bidirectional stacked LSTMs."
      ],
      "metadata": {
        "id": "tq3yObbK2ugf"
      }
    },
    {
      "cell_type": "code",
      "source": [
        "def evaluate_bidir_stack_lstm_model(trainX, trainy, testX, testy):\n",
        "\tepochs, batch_size = 15, 64\n",
        "\tn_timesteps, n_features, n_outputs = trainX.shape[1], trainX.shape[2], trainy.shape[1]\n",
        "\tmodel = Sequential()\n",
        "\tmodel.add(Bidirectional(LSTM(150, return_sequences=True, input_shape=(n_timesteps,n_features))))\n",
        "\tmodel.add(Dropout(0.1))\n",
        "\tmodel.add(LSTM(150))\n",
        "\tmodel.add(Dropout(0.1))\n",
        "\tmodel.add(Dense(150, activation='relu'))\n",
        "\tmodel.add(Dense(n_outputs, activation='softmax'))\n",
        "\tmodel.compile(loss='categorical_crossentropy', optimizer='adam', metrics=['accuracy'])\n",
        "\t# fit network\n",
        "\tmodel.fit(trainX, trainy, epochs=epochs, batch_size=batch_size, verbose=0)\n",
        "\t# evaluate model\n",
        "\t_, accuracy = model.evaluate(testX, testy, batch_size=batch_size, verbose=0)\n",
        "\treturn accuracy"
      ],
      "metadata": {
        "id": "B8cKXOP625iZ"
      },
      "execution_count": 46,
      "outputs": []
    },
    {
      "cell_type": "code",
      "source": [
        "acc_bidir_stack_lstm = evaluate_bidir_stack_lstm_model(X_train, y_train, X_test, y_test)\n",
        "print('Accuracy with stacked bidirectional LSTM model: %.2f' % (acc_stack_lstm*100))"
      ],
      "metadata": {
        "colab": {
          "base_uri": "https://localhost:8080/"
        },
        "id": "0UIF_8kc3J7J",
        "outputId": "b4fb35b1-8e65-4ac9-c574-76def3a1d6fe"
      },
      "execution_count": 47,
      "outputs": [
        {
          "output_type": "stream",
          "name": "stdout",
          "text": [
            "Accuracy with stacked bidirectional LSTM model: 91.96\n"
          ]
        }
      ]
    },
    {
      "cell_type": "markdown",
      "source": [
        "## Gated recurrent unit (GRU)\n",
        "Now let's try a model with stacked GRU."
      ],
      "metadata": {
        "id": "D99maydjdbF6"
      }
    },
    {
      "cell_type": "code",
      "source": [
        "def evaluate_stack_gru_model(trainX, trainy, testX, testy):\n",
        "\tepochs, batch_size = 15, 64\n",
        "\tn_timesteps, n_features, n_outputs = trainX.shape[1], trainX.shape[2], trainy.shape[1]\n",
        "\tmodel = Sequential()\n",
        "\tmodel.add(GRU(200, return_sequences=True, input_shape=(n_timesteps,n_features)))\n",
        "\tmodel.add(GRU(200))\n",
        "\tmodel.add(Dense(150, activation='relu'))\n",
        "\tmodel.add(Dense(n_outputs, activation='softmax'))\n",
        "\tmodel.compile(loss='categorical_crossentropy', optimizer='adam', metrics=['accuracy'])\n",
        "\t# fit network\n",
        "\tmodel.fit(trainX, trainy, epochs=epochs, batch_size=batch_size, verbose=0)\n",
        "\t# evaluate model\n",
        "\t_, accuracy = model.evaluate(testX, testy, batch_size=batch_size, verbose=0)\n",
        "\treturn accuracy"
      ],
      "metadata": {
        "id": "PT0ZC5rzzikj"
      },
      "execution_count": 48,
      "outputs": []
    },
    {
      "cell_type": "code",
      "source": [
        "acc_stack_gru = evaluate_stack_gru_model(X_train, y_train, X_test, y_test)\n",
        "print('Accuracy with stacked GRU model: %.2f' % (acc_stack_gru*100))"
      ],
      "metadata": {
        "colab": {
          "base_uri": "https://localhost:8080/"
        },
        "id": "s98xBANrzvP6",
        "outputId": "14d9d403-2cfa-4e6f-ddd1-4144cba2046a"
      },
      "execution_count": 49,
      "outputs": [
        {
          "output_type": "stream",
          "name": "stdout",
          "text": [
            "Accuracy with stacked GRU model: 92.84\n"
          ]
        }
      ]
    },
    {
      "cell_type": "markdown",
      "source": [
        "# Conclusion\n",
        "Looks like the accuracies hit a ceiling around 92%."
      ],
      "metadata": {
        "id": "jHh4pdiAkrsu"
      }
    }
  ]
}